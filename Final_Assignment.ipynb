{
    "cells": [
        {
            "metadata": {},
            "cell_type": "markdown",
            "source": "<p style=\"text-align:center\">\n    <a href=\"https://skills.network/?utm_medium=Exinfluencer&utm_source=Exinfluencer&utm_content=000026UJ&utm_term=10006555&utm_id=NA-SkillsNetwork-Channel-SkillsNetworkCoursesIBMDeveloperSkillsNetworkPY0221ENSkillsNetwork899-2023-01-01\">\n    <img src=\"https://cf-courses-data.s3.us.cloud-object-storage.appdomain.cloud/assets/logos/SN_web_lightmode.png\" width=\"200\" alt=\"Skills Network Logo\"  />\n    </a>\n</p>\n"
        },
        {
            "metadata": {},
            "cell_type": "markdown",
            "source": "# Peer Review Assignment - Data Engineer - ETL\n"
        },
        {
            "metadata": {},
            "cell_type": "markdown",
            "source": "Estimated time needed: **20** minutes\n"
        },
        {
            "metadata": {},
            "cell_type": "markdown",
            "source": "## Objectives\n\nIn this final part you will:\n\n- Run the ETL process\n- Extract bank and market cap data from the JSON file `bank_market_cap.json`\n- Transform the market cap currency using the exchange rate data\n- Load the transformed data into a seperate CSV\n"
        },
        {
            "metadata": {},
            "cell_type": "markdown",
            "source": "For this lab, we are going to be using Python and several Python libraries. Some of these libraries might be installed in your lab environment or in SN Labs. Others may need to be installed by you. The cells below will install these libraries when executed.\n"
        },
        {
            "metadata": {},
            "cell_type": "code",
            "source": "#!mamba install pandas==1.3.3 -y\n#!mamba install requests==2.26.0 -y",
            "execution_count": null,
            "outputs": []
        },
        {
            "metadata": {},
            "cell_type": "markdown",
            "source": "## Imports\n\nImport any additional libraries you may need here.\n"
        },
        {
            "metadata": {},
            "cell_type": "code",
            "source": "import glob\nimport pandas as pd\nfrom datetime import datetime",
            "execution_count": null,
            "outputs": []
        },
        {
            "metadata": {},
            "cell_type": "markdown",
            "source": "As the exchange rate fluctuates, we will download the same dataset to make marking simpler. This will be in the same format as the dataset you used in the last section  \n"
        },
        {
            "metadata": {},
            "cell_type": "code",
            "source": "!wget https://cf-courses-data.s3.us.cloud-object-storage.appdomain.cloud/IBMDeveloperSkillsNetwork-PY0221EN-SkillsNetwork/labs/module%206/Lab%20-%20Extract%20Transform%20Load/data/bank_market_cap_1.json\n!wget https://cf-courses-data.s3.us.cloud-object-storage.appdomain.cloud/IBMDeveloperSkillsNetwork-PY0221EN-SkillsNetwork/labs/module%206/Lab%20-%20Extract%20Transform%20Load/data/bank_market_cap_2.json\n!wget https://cf-courses-data.s3.us.cloud-object-storage.appdomain.cloud/IBMDeveloperSkillsNetwork-PY0221EN-SkillsNetwork/labs/module%206/Final%20Assignment/exchange_rates.csv",
            "execution_count": 1,
            "outputs": [
                {
                    "output_type": "stream",
                    "text": "--2023-04-14 17:44:22--  https://cf-courses-data.s3.us.cloud-object-storage.appdomain.cloud/IBMDeveloperSkillsNetwork-PY0221EN-SkillsNetwork/labs/module%206/Lab%20-%20Extract%20Transform%20Load/data/bank_market_cap_1.json\nResolving cf-courses-data.s3.us.cloud-object-storage.appdomain.cloud (cf-courses-data.s3.us.cloud-object-storage.appdomain.cloud)... 198.23.119.245\nConnecting to cf-courses-data.s3.us.cloud-object-storage.appdomain.cloud (cf-courses-data.s3.us.cloud-object-storage.appdomain.cloud)|198.23.119.245|:443... connected.\nHTTP request sent, awaiting response... 200 OK\nLength: 2815 (2.7K) [application/json]\nSaving to: \u2018bank_market_cap_1.json\u2019\n\nbank_market_cap_1.j 100%[===================>]   2.75K  --.-KB/s    in 0s      \n\n2023-04-14 17:44:23 (73.5 MB/s) - \u2018bank_market_cap_1.json\u2019 saved [2815/2815]\n\n--2023-04-14 17:44:24--  https://cf-courses-data.s3.us.cloud-object-storage.appdomain.cloud/IBMDeveloperSkillsNetwork-PY0221EN-SkillsNetwork/labs/module%206/Lab%20-%20Extract%20Transform%20Load/data/bank_market_cap_2.json\nResolving cf-courses-data.s3.us.cloud-object-storage.appdomain.cloud (cf-courses-data.s3.us.cloud-object-storage.appdomain.cloud)... 198.23.119.245\nConnecting to cf-courses-data.s3.us.cloud-object-storage.appdomain.cloud (cf-courses-data.s3.us.cloud-object-storage.appdomain.cloud)|198.23.119.245|:443... connected.\nHTTP request sent, awaiting response... 200 OK\nLength: 1429 (1.4K) [application/json]\nSaving to: \u2018bank_market_cap_2.json\u2019\n\nbank_market_cap_2.j 100%[===================>]   1.40K  --.-KB/s    in 0s      \n\n2023-04-14 17:44:24 (38.2 MB/s) - \u2018bank_market_cap_2.json\u2019 saved [1429/1429]\n\n--2023-04-14 17:44:25--  https://cf-courses-data.s3.us.cloud-object-storage.appdomain.cloud/IBMDeveloperSkillsNetwork-PY0221EN-SkillsNetwork/labs/module%206/Final%20Assignment/exchange_rates.csv\nResolving cf-courses-data.s3.us.cloud-object-storage.appdomain.cloud (cf-courses-data.s3.us.cloud-object-storage.appdomain.cloud)... 198.23.119.245\nConnecting to cf-courses-data.s3.us.cloud-object-storage.appdomain.cloud (cf-courses-data.s3.us.cloud-object-storage.appdomain.cloud)|198.23.119.245|:443... connected.\nHTTP request sent, awaiting response... 200 OK\nLength: 590 [text/csv]\nSaving to: \u2018exchange_rates.csv\u2019\n\nexchange_rates.csv  100%[===================>]     590  --.-KB/s    in 0s      \n\n2023-04-14 17:44:25 (17.8 MB/s) - \u2018exchange_rates.csv\u2019 saved [590/590]\n\n",
                    "name": "stdout"
                }
            ]
        },
        {
            "metadata": {},
            "cell_type": "markdown",
            "source": "## Extract\n"
        },
        {
            "metadata": {},
            "cell_type": "markdown",
            "source": "### JSON Extract Function\n\nThis function will extract JSON files.\n"
        },
        {
            "metadata": {},
            "cell_type": "code",
            "source": "def extract_from_json(file_to_process):\n    dataframe = pd.read_json(file_to_process)\n    return dataframe",
            "execution_count": 2,
            "outputs": []
        },
        {
            "metadata": {},
            "cell_type": "markdown",
            "source": "## Extract Function\n\nDefine the extract function that finds JSON file `bank_market_cap_1.json` and calls the function created above to extract data from them. Store the data in a `pandas` dataframe. Use the following list for the columns.\n"
        },
        {
            "metadata": {},
            "cell_type": "code",
            "source": "\ndef extract():\n    url = \"https://cf-courses-data.s3.us.cloud-object-storage.appdomain.cloud/IBMDeveloperSkillsNetwork-PY0221EN-SkillsNetwork/labs/module%206/Lab%20-%20Extract%20Transform%20Load/data/bank_market_cap_1.json\"\n    df1 = extract_from_json(url)\n    df1.columns = ['Name', 'Market Cap (US$ Billion)']",
            "execution_count": 3,
            "outputs": []
        },
        {
            "metadata": {},
            "cell_type": "markdown",
            "source": "<b>Question 1</b> Load the file <code>exchange_rates.csv</code> as a dataframe and find the exchange rate for British pounds with the symbol <code>GBP</code>, store it in the variable  <code>exchange_rate</code>, you will be asked for the number. Hint: set the parameter  <code>index_col</code> to 0.\n"
        },
        {
            "metadata": {},
            "cell_type": "code",
            "source": "# Write your code here\ndef extract_from_csv(file_to_process):\n    dataframe = pd.read_csv(file_to_process, index_col=0)\n    return dataframe\ndf2 = extract_from_csv(url)\nexchange_rate = df2.loc['GBP', 'Rates']",
            "execution_count": null,
            "outputs": []
        },
        {
            "metadata": {},
            "cell_type": "markdown",
            "source": "## Transform\n\nUsing <code>exchange_rate</code> and the `exchange_rates.csv` file find the exchange rate of USD to GBP. Write a transform function that\n\n1. Changes the `Market Cap (US$ Billion)` column from USD to GBP\n2. Rounds the Market Cap (US$ Billion)` column to 3 decimal places\n3. Rename `Market Cap (US$ Billion)` to `Market Cap (GBP$ Billion)`\n"
        },
        {
            "metadata": {},
            "cell_type": "code",
            "source": "def transform(df, gbp_rate):\n    new_header = 'Market Cap (GBP$ Billion)'\n    df = df.rename(columns={'Market Cap (US$ Billion)': new_header})\n    df[new_header] = df[new_header] * gbp_rate\n    df[new_header] = df[new_header].round(3)\n    print(df)\n    ",
            "execution_count": null,
            "outputs": []
        },
        {
            "metadata": {},
            "cell_type": "markdown",
            "source": "## Load\n\nCreate a function that takes a dataframe and load it to a csv named `bank_market_cap_gbp.csv`. Make sure to set `index` to `False`.\n"
        },
        {
            "metadata": {},
            "cell_type": "code",
            "source": "def load(df, csv_file_name):\n    df.to_csv(csv_file_name, index=False, header=True)",
            "execution_count": null,
            "outputs": []
        },
        {
            "metadata": {},
            "cell_type": "markdown",
            "source": "## Logging Function\n"
        },
        {
            "metadata": {},
            "cell_type": "markdown",
            "source": "Write the logging function <code>log</code> to log your data:\n"
        },
        {
            "metadata": {},
            "cell_type": "code",
            "source": "def log(message):\n    timestamp_format='%Y-%h-%d-%H:%M:%S'\n    now = datetime.now()\n    timestamp = now.strftime(timestamp_format)\n    with open(\"logfile.txt\",\"a\") as f\n        f.write(timestamp + ',' +message+'\\n')\n    ",
            "execution_count": null,
            "outputs": []
        },
        {
            "metadata": {},
            "cell_type": "markdown",
            "source": "## Running the ETL Process\n"
        },
        {
            "metadata": {},
            "cell_type": "markdown",
            "source": "Log the process accordingly using the following <code>\"ETL Job Started\"</code> and <code>\"Extract phase Started\"</code>\n"
        },
        {
            "metadata": {},
            "cell_type": "code",
            "source": "log(\"ETL Job Started\")\nlog(\"Extract phase Started\")\ndf = extract()",
            "execution_count": null,
            "outputs": []
        },
        {
            "metadata": {},
            "cell_type": "markdown",
            "source": "### Extract\n"
        },
        {
            "metadata": {},
            "cell_type": "markdown",
            "source": "<code>Question 2</code> Use the function <code>extract</code>, and print the first 5 rows, take a screen shot:\n"
        },
        {
            "metadata": {},
            "cell_type": "code",
            "source": "                                       Name  Market Cap (US$ Billion)\n0                           JPMorgan Chase                   390.934\n1  Industrial and Commercial Bank of China                   345.214\n2                          Bank of America                   325.331\n3                              Wells Fargo                   308.013\n4                  China Construction Bank                   257.399",
            "execution_count": null,
            "outputs": []
        },
        {
            "metadata": {},
            "cell_type": "markdown",
            "source": "Log the data as <code>\"Extract phase Ended\"</code>\n"
        },
        {
            "metadata": {},
            "cell_type": "code",
            "source": "# Write your code here\nlog(\"Extract phase ended\")",
            "execution_count": null,
            "outputs": []
        },
        {
            "metadata": {},
            "cell_type": "markdown",
            "source": "### Transform\n"
        },
        {
            "metadata": {},
            "cell_type": "markdown",
            "source": "Log the following  <code>\"Transform phase Started\"</code>\n"
        },
        {
            "metadata": {},
            "cell_type": "code",
            "source": "# Write your code here\nlog(\"Transform phase Started\")",
            "execution_count": null,
            "outputs": []
        },
        {
            "metadata": {},
            "cell_type": "markdown",
            "source": "<code>Question 3</code> Use the function <code>transform</code> and print the first 5 rows of the output, take a screen shot:\n"
        },
        {
            "metadata": {},
            "cell_type": "code",
            "source": "# Call the function here\ndf = transform(df, gbp_rate)\n\n# Print the first 5 rows here\n                                       Name  Market Cap (GBP$ Billion)\n0                            JPMorgan Chase                    286.319\n1   Industrial and Commercial Bank of China                    252.834\n2                           Bank of America                    238.272\n3                               Wells Fargo                    225.588\n4                   China Construction Bank                    188.519",
            "execution_count": null,
            "outputs": []
        },
        {
            "metadata": {},
            "cell_type": "markdown",
            "source": "Log your data <code>\"Transform phase Ended\"</code>\n"
        },
        {
            "metadata": {},
            "cell_type": "code",
            "source": "# Write your code here\nlog(\"Transform phase Ended\")",
            "execution_count": null,
            "outputs": []
        },
        {
            "metadata": {},
            "cell_type": "markdown",
            "source": "### Load\n"
        },
        {
            "metadata": {},
            "cell_type": "markdown",
            "source": "Log the following `\"Load phase Started\"`.\n"
        },
        {
            "metadata": {},
            "cell_type": "code",
            "source": "# Write your code here\nlog(\"Load phase Started\")",
            "execution_count": null,
            "outputs": []
        },
        {
            "metadata": {},
            "cell_type": "markdown",
            "source": "Call the load function\n"
        },
        {
            "metadata": {},
            "cell_type": "code",
            "source": "# Write your code here\nload(df, \"bank_market_cap_gbp.csv\")",
            "execution_count": null,
            "outputs": []
        },
        {
            "metadata": {},
            "cell_type": "markdown",
            "source": "Log the following `\"Load phase Ended\"`.\n"
        },
        {
            "metadata": {},
            "cell_type": "code",
            "source": "# Write your code here\nlog(\"Load phase Ended\")",
            "execution_count": 4,
            "outputs": [
                {
                    "output_type": "error",
                    "ename": "NameError",
                    "evalue": "name 'log' is not defined",
                    "traceback": [
                        "\u001b[0;31m---------------------------------------------------------------------------\u001b[0m",
                        "\u001b[0;31mNameError\u001b[0m                                 Traceback (most recent call last)",
                        "Input \u001b[0;32mIn [4]\u001b[0m, in \u001b[0;36m<cell line: 2>\u001b[0;34m()\u001b[0m\n\u001b[1;32m      1\u001b[0m \u001b[38;5;66;03m# Write your code here\u001b[39;00m\n\u001b[0;32m----> 2\u001b[0m \u001b[43mlog\u001b[49m(\u001b[38;5;124m\"\u001b[39m\u001b[38;5;124mLoad phase Ended\u001b[39m\u001b[38;5;124m\"\u001b[39m)\n",
                        "\u001b[0;31mNameError\u001b[0m: name 'log' is not defined"
                    ]
                }
            ]
        },
        {
            "metadata": {},
            "cell_type": "markdown",
            "source": "## Authors\n"
        },
        {
            "metadata": {},
            "cell_type": "markdown",
            "source": "Ramesh Sannareddy, Joseph Santrcangelo and Azim Hirjani\n"
        },
        {
            "metadata": {},
            "cell_type": "markdown",
            "source": "### Other Contributors\n"
        },
        {
            "metadata": {},
            "cell_type": "markdown",
            "source": "Rav Ahuja\n"
        },
        {
            "metadata": {},
            "cell_type": "markdown",
            "source": "## Change Log\n"
        },
        {
            "metadata": {},
            "cell_type": "markdown",
            "source": "| Date (YYYY-MM-DD) | Version | Changed By        | Change Description                 |\n| ----------------- | ------- | ----------------- | ---------------------------------- |\n| 2020-11-25        | 0.1     | Ramesh Sannareddy | Created initial version of the lab |\n"
        },
        {
            "metadata": {},
            "cell_type": "markdown",
            "source": " Copyright \u00a9 2020 IBM Corporation. This notebook and its source code are released under the terms of the [MIT License](https://cognitiveclass.ai/mit-license?utm_medium=Exinfluencer&utm_source=Exinfluencer&utm_content=000026UJ&utm_term=10006555&utm_id=NA-SkillsNetwork-Channel-SkillsNetworkCoursesIBMDeveloperSkillsNetworkPY0221ENSkillsNetwork899-2023-01-01&cm_mmc=Email_Newsletter-_-Developer_Ed%2BTech-_-WW_WW-_-SkillsNetwork-Courses-IBM-DA0321EN-SkillsNetwork-21426264&cm_mmca1=000026UJ&cm_mmca2=10006555&cm_mmca3=M12345678&cvosrc=email.Newsletter.M12345678&cvo_campaign=000026UJ).\n"
        }
    ],
    "metadata": {
        "kernelspec": {
            "name": "python3",
            "display_name": "Python 3.10",
            "language": "python"
        },
        "language_info": {
            "name": "python",
            "version": "3.10.9",
            "mimetype": "text/x-python",
            "codemirror_mode": {
                "name": "ipython",
                "version": 3
            },
            "pygments_lexer": "ipython3",
            "nbconvert_exporter": "python",
            "file_extension": ".py"
        }
    },
    "nbformat": 4,
    "nbformat_minor": 4
}